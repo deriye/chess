{
 "cells": [
  {
   "cell_type": "code",
   "execution_count": 1,
   "metadata": {},
   "outputs": [
    {
     "name": "stdout",
     "output_type": "stream",
     "text": [
      "Expectimax value is 54.5\n"
     ]
    }
   ],
   "source": [
    "import chess\n",
    "import chess.svg\n",
    "import random\n",
    "import re\n",
    "\n",
    "\n",
    "# Python3 program to illustrate\n",
    "# Expectimax Algorithm\n",
    "  \n",
    "# Structure to declare\n",
    "# left and right nodes\n",
    "class Node:\n",
    "     \n",
    "    def __init__(self, value):\n",
    "         \n",
    "        self.value = value\n",
    "        self.left = None\n",
    "        self.right = None\n",
    "     \n",
    "# Initializing Nodes to None\n",
    "def newNode(v):\n",
    " \n",
    "    temp = Node(v)\n",
    "    return temp\n",
    " \n",
    "# Getting expectimax\n",
    "def expectimax(node, is_max):\n",
    " \n",
    "    # Condition for Terminal node\n",
    "    if (node.left == None and node.right == None):\n",
    "        return node.value\n",
    "     \n",
    "    # Maximizer node. Chooses the max from the\n",
    "    # left and right sub-trees\n",
    "    if (is_max):\n",
    "        return max(expectimax(node.left, False), expectimax(node.right, False))\n",
    "  \n",
    "    # Chance node. Returns the average of\n",
    "    # the left and right sub-trees\n",
    "    else:\n",
    "        return (expectimax(node.left, True)+ expectimax(node.right, True))/2\n",
    "     \n",
    "# Driver code\n",
    "\n",
    "# Non leaf nodes.\n",
    "# If search is limited\n",
    "# to a given depth,\n",
    "# their values are\n",
    "# taken as heuristic value.\n",
    "# But because the entire tree\n",
    "# is searched their\n",
    "# values don't matter\n",
    "root = newNode(0)\n",
    "root.left = newNode(0)\n",
    "root.right = newNode(0)\n",
    "\n",
    "# Assigning values to Leaf nodes\n",
    "root.left.left = newNode(10)\n",
    "root.left.right = newNode(10)\n",
    "root.right.left = newNode(9)\n",
    "root.right.right = newNode(100)\n",
    "\n",
    "res = expectimax(root, True)\n",
    "print(\"Expectimax value is \"+str(res))\n",
    "     \n",
    "# This code is contributed by rutvik_56"
   ]
  }
 ],
 "metadata": {
  "kernelspec": {
   "display_name": "Python 3",
   "language": "python",
   "name": "python3"
  },
  "language_info": {
   "codemirror_mode": {
    "name": "ipython",
    "version": 3
   },
   "file_extension": ".py",
   "mimetype": "text/x-python",
   "name": "python",
   "nbconvert_exporter": "python",
   "pygments_lexer": "ipython3",
   "version": "3.10.5"
  },
  "orig_nbformat": 4
 },
 "nbformat": 4,
 "nbformat_minor": 2
}
